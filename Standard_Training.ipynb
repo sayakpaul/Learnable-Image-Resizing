{
  "nbformat": 4,
  "nbformat_minor": 0,
  "metadata": {
    "colab": {
      "name": "Standard_Training.ipynb",
      "provenance": [],
      "collapsed_sections": []
    },
    "environment": {
      "name": "tf2-gpu.2-4.m65",
      "type": "gcloud",
      "uri": "gcr.io/deeplearning-platform-release/tf2-gpu.2-4:m65"
    },
    "kernelspec": {
      "display_name": "Python 3",
      "language": "python",
      "name": "python3"
    },
    "language_info": {
      "codemirror_mode": {
        "name": "ipython",
        "version": 3
      },
      "file_extension": ".py",
      "mimetype": "text/x-python",
      "name": "python",
      "nbconvert_exporter": "python",
      "pygments_lexer": "ipython3",
      "version": "3.7.10"
    }
  },
  "cells": [
    {
      "cell_type": "markdown",
      "metadata": {
        "id": "jb0RhdU5tXhk"
      },
      "source": [
        "## Setup"
      ]
    },
    {
      "cell_type": "code",
      "metadata": {
        "id": "0wE8RBc7GqqH",
        "outputId": "f02ea1d6-5e1a-4662-fe33-a3bbde3b6057"
      },
      "source": [
        "from tensorflow.keras import layers\n",
        "from tensorflow import keras\n",
        "import tensorflow as tf\n",
        "\n",
        "import tensorflow_datasets as tfds\n",
        "tfds.disable_progress_bar()\n",
        "\n",
        "from tensorflow.keras import mixed_precision\n",
        "mixed_precision.set_global_policy(\"mixed_float16\")\n",
        "\n",
        "import matplotlib.pyplot as plt\n",
        "import numpy as np"
      ],
      "execution_count": null,
      "outputs": [
        {
          "output_type": "stream",
          "text": [
            "INFO:tensorflow:Mixed precision compatibility check (mixed_float16): OK\n",
            "Your GPUs will likely run quickly with dtype policy mixed_float16 as they all have compute capability of at least 7.0\n"
          ],
          "name": "stdout"
        }
      ]
    },
    {
      "cell_type": "code",
      "metadata": {
        "id": "SXikC_Uz5eV2",
        "outputId": "5213f962-24f5-44cd-85e6-618bfb650060"
      },
      "source": [
        "try: \n",
        "    tpu = None\n",
        "    tpu = tf.distribute.cluster_resolver.TPUClusterResolver() \n",
        "    tf.config.experimental_connect_to_cluster(tpu)\n",
        "    tf.tpu.experimental.initialize_tpu_system(tpu)\n",
        "    strategy = tf.distribute.TPUStrategy(tpu)\n",
        "except ValueError: \n",
        "    strategy = tf.distribute.MirroredStrategy() \n",
        "\n",
        "print(\"Number of accelerators: \", strategy.num_replicas_in_sync)"
      ],
      "execution_count": null,
      "outputs": [
        {
          "output_type": "stream",
          "text": [
            "INFO:tensorflow:Using MirroredStrategy with devices ('/job:localhost/replica:0/task:0/device:GPU:0', '/job:localhost/replica:0/task:0/device:GPU:1', '/job:localhost/replica:0/task:0/device:GPU:2', '/job:localhost/replica:0/task:0/device:GPU:3')\n",
            "Number of accelerators:  4\n"
          ],
          "name": "stdout"
        }
      ]
    },
    {
      "cell_type": "markdown",
      "metadata": {
        "id": "gIPsLuCQtXh8"
      },
      "source": [
        "## Define hyperparameters"
      ]
    },
    {
      "cell_type": "code",
      "metadata": {
        "id": "6OHw98VpUDyk"
      },
      "source": [
        "TARGET_DIM = (224, 224)\n",
        "\n",
        "AUTO = tf.data.AUTOTUNE\n",
        "BATCH_SIZE = 128 * strategy.num_replicas_in_sync\n",
        "EPOCHS = 10"
      ],
      "execution_count": null,
      "outputs": []
    },
    {
      "cell_type": "markdown",
      "metadata": {
        "id": "6n7XjpjNtXh9"
      },
      "source": [
        "## Prepare data loaders"
      ]
    },
    {
      "cell_type": "code",
      "metadata": {
        "id": "Lg1-VWCOHSET"
      },
      "source": [
        "train_ds, validation_ds, test_ds = tfds.load(\n",
        "    \"cats_vs_dogs\",\n",
        "    # Reserve 10% for validation and 10% for test\n",
        "    split=[\"train[:90%]\", \"train[90%:95%]\", \"train[95%:]\"],\n",
        "    as_supervised=True,  \n",
        ")"
      ],
      "execution_count": null,
      "outputs": []
    },
    {
      "cell_type": "code",
      "metadata": {
        "id": "7g61V0KBwfI8"
      },
      "source": [
        "def preprocess_dataset(image, label):\n",
        "    image = tf.image.resize(image, (TARGET_DIM[0], TARGET_DIM[1]))\n",
        "    label = tf.one_hot(label, depth=2)\n",
        "    return (image, label)"
      ],
      "execution_count": null,
      "outputs": []
    },
    {
      "cell_type": "code",
      "metadata": {
        "id": "70-6QO3eri7D"
      },
      "source": [
        "train_ds = (\n",
        "    train_ds\n",
        "    .shuffle(BATCH_SIZE * 100)\n",
        "    .map(preprocess_dataset, num_parallel_calls=AUTO)\n",
        "    .batch(BATCH_SIZE)\n",
        "    .prefetch(AUTO)\n",
        ")\n",
        "validation_ds = (\n",
        "    validation_ds\n",
        "    .map(preprocess_dataset, num_parallel_calls=AUTO)\n",
        "    .batch(BATCH_SIZE)\n",
        "    .prefetch(AUTO)\n",
        ")\n",
        "test_ds = (\n",
        "    test_ds\n",
        "    .map(preprocess_dataset, num_parallel_calls=AUTO)\n",
        "    .batch(BATCH_SIZE)\n",
        "    .prefetch(AUTO)\n",
        ")"
      ],
      "execution_count": null,
      "outputs": []
    },
    {
      "cell_type": "markdown",
      "metadata": {
        "id": "rVGJNtxhtXh_"
      },
      "source": [
        "## Build, train, and evaluate model"
      ]
    },
    {
      "cell_type": "code",
      "metadata": {
        "id": "fb8WWT0Rvq-r"
      },
      "source": [
        "def get_model():\n",
        "    backbone = tf.keras.applications.DenseNet121(weights=None, include_top=True, classes=2)\n",
        "    backbone.trainable = True\n",
        "    \n",
        "    inputs = layers.Input((TARGET_DIM[0], TARGET_DIM[1], 3))\n",
        "    x = layers.experimental.preprocessing.Rescaling(scale=1./255)(inputs)\n",
        "    outputs = backbone(x)\n",
        "    outputs = layers.Activation(\"linear\", dtype=\"float32\")(outputs)\n",
        "\n",
        "    return tf.keras.Model(inputs, outputs)"
      ],
      "execution_count": null,
      "outputs": []
    },
    {
      "cell_type": "code",
      "metadata": {
        "id": "8FSIyHU5tXh_",
        "outputId": "23331967-6b50-45a0-dce7-a10402e984d2"
      },
      "source": [
        "# We will use this initial random model to train both the models\n",
        "# for reproducibility\n",
        "initial_model = get_model()\n",
        "initial_model.save(\"initial_model\")"
      ],
      "execution_count": null,
      "outputs": [
        {
          "output_type": "stream",
          "text": [
            "INFO:tensorflow:Assets written to: initial_model/assets\n"
          ],
          "name": "stdout"
        },
        {
          "output_type": "stream",
          "text": [
            "INFO:tensorflow:Assets written to: initial_model/assets\n"
          ],
          "name": "stderr"
        }
      ]
    },
    {
      "cell_type": "markdown",
      "metadata": {
        "id": "UNFwBw7UtaFM"
      },
      "source": [
        "The model weights that were initially used can be retrieved from [here](https://github.com/sayakpaul/Learnable-Image-Resizing/releases/tag/v1.0.0):\n",
        "\n",
        "```shell\n",
        "!wget -q https://github.com/sayakpaul/Learnable-Image-Resizing/releases/download/v1.0.0/models.tar.gz\n",
        "!tar xf models.tar.gz\n",
        "```"
      ]
    },
    {
      "cell_type": "code",
      "metadata": {
        "id": "LPdhuyHN6DnC",
        "outputId": "e305dc10-b17a-474f-a74f-42d16bd07501"
      },
      "source": [
        "with strategy.scope():\n",
        "    model = tf.keras.models.load_model(\"initial_model\")\n",
        "    model.compile(loss=keras.losses.CategoricalCrossentropy(label_smoothing=0.1),\n",
        "                optimizer=\"sgd\",\n",
        "                metrics=[\"accuracy\"])\n",
        "model.fit(train_ds,\n",
        "          validation_data=validation_ds,\n",
        "          epochs=EPOCHS)"
      ],
      "execution_count": null,
      "outputs": [
        {
          "output_type": "stream",
          "text": [
            "INFO:tensorflow:Reduce to /job:localhost/replica:0/task:0/device:CPU:0 then broadcast to ('/job:localhost/replica:0/task:0/device:CPU:0',).\n"
          ],
          "name": "stdout"
        },
        {
          "output_type": "stream",
          "text": [
            "INFO:tensorflow:Reduce to /job:localhost/replica:0/task:0/device:CPU:0 then broadcast to ('/job:localhost/replica:0/task:0/device:CPU:0',).\n"
          ],
          "name": "stderr"
        },
        {
          "output_type": "stream",
          "text": [
            "INFO:tensorflow:Reduce to /job:localhost/replica:0/task:0/device:CPU:0 then broadcast to ('/job:localhost/replica:0/task:0/device:CPU:0',).\n"
          ],
          "name": "stdout"
        },
        {
          "output_type": "stream",
          "text": [
            "INFO:tensorflow:Reduce to /job:localhost/replica:0/task:0/device:CPU:0 then broadcast to ('/job:localhost/replica:0/task:0/device:CPU:0',).\n"
          ],
          "name": "stderr"
        },
        {
          "output_type": "stream",
          "text": [
            "INFO:tensorflow:Reduce to /job:localhost/replica:0/task:0/device:CPU:0 then broadcast to ('/job:localhost/replica:0/task:0/device:CPU:0',).\n"
          ],
          "name": "stdout"
        },
        {
          "output_type": "stream",
          "text": [
            "INFO:tensorflow:Reduce to /job:localhost/replica:0/task:0/device:CPU:0 then broadcast to ('/job:localhost/replica:0/task:0/device:CPU:0',).\n"
          ],
          "name": "stderr"
        },
        {
          "output_type": "stream",
          "text": [
            "INFO:tensorflow:Reduce to /job:localhost/replica:0/task:0/device:CPU:0 then broadcast to ('/job:localhost/replica:0/task:0/device:CPU:0',).\n"
          ],
          "name": "stdout"
        },
        {
          "output_type": "stream",
          "text": [
            "INFO:tensorflow:Reduce to /job:localhost/replica:0/task:0/device:CPU:0 then broadcast to ('/job:localhost/replica:0/task:0/device:CPU:0',).\n"
          ],
          "name": "stderr"
        },
        {
          "output_type": "stream",
          "text": [
            "INFO:tensorflow:Reduce to /job:localhost/replica:0/task:0/device:CPU:0 then broadcast to ('/job:localhost/replica:0/task:0/device:CPU:0',).\n"
          ],
          "name": "stdout"
        },
        {
          "output_type": "stream",
          "text": [
            "INFO:tensorflow:Reduce to /job:localhost/replica:0/task:0/device:CPU:0 then broadcast to ('/job:localhost/replica:0/task:0/device:CPU:0',).\n"
          ],
          "name": "stderr"
        },
        {
          "output_type": "stream",
          "text": [
            "INFO:tensorflow:Reduce to /job:localhost/replica:0/task:0/device:CPU:0 then broadcast to ('/job:localhost/replica:0/task:0/device:CPU:0',).\n"
          ],
          "name": "stdout"
        },
        {
          "output_type": "stream",
          "text": [
            "INFO:tensorflow:Reduce to /job:localhost/replica:0/task:0/device:CPU:0 then broadcast to ('/job:localhost/replica:0/task:0/device:CPU:0',).\n"
          ],
          "name": "stderr"
        },
        {
          "output_type": "stream",
          "text": [
            "INFO:tensorflow:Reduce to /job:localhost/replica:0/task:0/device:CPU:0 then broadcast to ('/job:localhost/replica:0/task:0/device:CPU:0',).\n"
          ],
          "name": "stdout"
        },
        {
          "output_type": "stream",
          "text": [
            "INFO:tensorflow:Reduce to /job:localhost/replica:0/task:0/device:CPU:0 then broadcast to ('/job:localhost/replica:0/task:0/device:CPU:0',).\n"
          ],
          "name": "stderr"
        },
        {
          "output_type": "stream",
          "text": [
            "INFO:tensorflow:Reduce to /job:localhost/replica:0/task:0/device:CPU:0 then broadcast to ('/job:localhost/replica:0/task:0/device:CPU:0',).\n"
          ],
          "name": "stdout"
        },
        {
          "output_type": "stream",
          "text": [
            "INFO:tensorflow:Reduce to /job:localhost/replica:0/task:0/device:CPU:0 then broadcast to ('/job:localhost/replica:0/task:0/device:CPU:0',).\n"
          ],
          "name": "stderr"
        },
        {
          "output_type": "stream",
          "text": [
            "INFO:tensorflow:Reduce to /job:localhost/replica:0/task:0/device:CPU:0 then broadcast to ('/job:localhost/replica:0/task:0/device:CPU:0',).\n"
          ],
          "name": "stdout"
        },
        {
          "output_type": "stream",
          "text": [
            "INFO:tensorflow:Reduce to /job:localhost/replica:0/task:0/device:CPU:0 then broadcast to ('/job:localhost/replica:0/task:0/device:CPU:0',).\n"
          ],
          "name": "stderr"
        },
        {
          "output_type": "stream",
          "text": [
            "INFO:tensorflow:Reduce to /job:localhost/replica:0/task:0/device:CPU:0 then broadcast to ('/job:localhost/replica:0/task:0/device:CPU:0',).\n"
          ],
          "name": "stdout"
        },
        {
          "output_type": "stream",
          "text": [
            "INFO:tensorflow:Reduce to /job:localhost/replica:0/task:0/device:CPU:0 then broadcast to ('/job:localhost/replica:0/task:0/device:CPU:0',).\n"
          ],
          "name": "stderr"
        },
        {
          "output_type": "stream",
          "text": [
            "WARNING:tensorflow:No training configuration found in save file, so the model was *not* compiled. Compile it manually.\n"
          ],
          "name": "stdout"
        },
        {
          "output_type": "stream",
          "text": [
            "WARNING:tensorflow:No training configuration found in save file, so the model was *not* compiled. Compile it manually.\n"
          ],
          "name": "stderr"
        },
        {
          "output_type": "stream",
          "text": [
            "Epoch 1/10\n",
            "INFO:tensorflow:batch_all_reduce: 364 all-reduces with algorithm = nccl, num_packs = 1\n"
          ],
          "name": "stdout"
        },
        {
          "output_type": "stream",
          "text": [
            "INFO:tensorflow:batch_all_reduce: 364 all-reduces with algorithm = nccl, num_packs = 1\n"
          ],
          "name": "stderr"
        },
        {
          "output_type": "stream",
          "text": [
            "INFO:tensorflow:batch_all_reduce: 364 all-reduces with algorithm = nccl, num_packs = 1\n"
          ],
          "name": "stdout"
        },
        {
          "output_type": "stream",
          "text": [
            "INFO:tensorflow:batch_all_reduce: 364 all-reduces with algorithm = nccl, num_packs = 1\n"
          ],
          "name": "stderr"
        },
        {
          "output_type": "stream",
          "text": [
            "41/41 [==============================] - 207s 730ms/step - loss: 0.6687 - accuracy: 0.5978 - val_loss: 0.6931 - val_accuracy: 0.5047\n",
            "Epoch 2/10\n",
            "41/41 [==============================] - 20s 388ms/step - loss: 0.6293 - accuracy: 0.6613 - val_loss: 0.6932 - val_accuracy: 0.5047\n",
            "Epoch 3/10\n",
            "41/41 [==============================] - 19s 381ms/step - loss: 0.6194 - accuracy: 0.6739 - val_loss: 0.7006 - val_accuracy: 0.4953\n",
            "Epoch 4/10\n",
            "41/41 [==============================] - 19s 380ms/step - loss: 0.6082 - accuracy: 0.6937 - val_loss: 0.7164 - val_accuracy: 0.4953\n",
            "Epoch 5/10\n",
            "41/41 [==============================] - 19s 381ms/step - loss: 0.5956 - accuracy: 0.7067 - val_loss: 0.7360 - val_accuracy: 0.4953\n",
            "Epoch 6/10\n",
            "41/41 [==============================] - 19s 384ms/step - loss: 0.5941 - accuracy: 0.7115 - val_loss: 0.7672 - val_accuracy: 0.4953\n",
            "Epoch 7/10\n",
            "41/41 [==============================] - 19s 382ms/step - loss: 0.5813 - accuracy: 0.7242 - val_loss: 0.9797 - val_accuracy: 0.4953\n",
            "Epoch 8/10\n",
            "41/41 [==============================] - 19s 382ms/step - loss: 0.5722 - accuracy: 0.7340 - val_loss: 1.1983 - val_accuracy: 0.4944\n",
            "Epoch 9/10\n",
            "41/41 [==============================] - 19s 379ms/step - loss: 0.5593 - accuracy: 0.7543 - val_loss: 1.2882 - val_accuracy: 0.4944\n",
            "Epoch 10/10\n",
            "41/41 [==============================] - 19s 383ms/step - loss: 0.5564 - accuracy: 0.7503 - val_loss: 1.2146 - val_accuracy: 0.4918\n"
          ],
          "name": "stdout"
        },
        {
          "output_type": "execute_result",
          "data": {
            "text/plain": [
              "<tensorflow.python.keras.callbacks.History at 0x7efc927dee90>"
            ]
          },
          "metadata": {
            "tags": []
          },
          "execution_count": 10
        }
      ]
    },
    {
      "cell_type": "code",
      "metadata": {
        "id": "oGor7uS_6ejQ",
        "outputId": "c96e5613-038b-4df2-ae75-6352efc61248"
      },
      "source": [
        "with strategy.scope():\n",
        "    _, test_acc = model.evaluate(test_ds)\n",
        "print(\"Test accuracy: {:.2f}%\".format(test_acc * 100))\n",
        "\n",
        "model.save(\"standard_densenet_model\")"
      ],
      "execution_count": null,
      "outputs": [
        {
          "output_type": "stream",
          "text": [
            "3/3 [==============================] - 1s 127ms/step - loss: 1.1822 - accuracy: 0.5030\n",
            "Test accuracy: 50.30%\n",
            "INFO:tensorflow:Assets written to: standard_densenet_model/assets\n"
          ],
          "name": "stdout"
        },
        {
          "output_type": "stream",
          "text": [
            "INFO:tensorflow:Assets written to: standard_densenet_model/assets\n"
          ],
          "name": "stderr"
        }
      ]
    }
  ]
}