{
 "cells": [
  {
   "cell_type": "markdown",
   "metadata": {},
   "source": [
    "## Setup"
   ]
  },
  {
   "cell_type": "code",
   "execution_count": 1,
   "metadata": {
    "id": "0wE8RBc7GqqH"
   },
   "outputs": [
    {
     "name": "stdout",
     "output_type": "stream",
     "text": [
      "INFO:tensorflow:Mixed precision compatibility check (mixed_float16): OK\n",
      "Your GPUs will likely run quickly with dtype policy mixed_float16 as they all have compute capability of at least 7.0\n"
     ]
    }
   ],
   "source": [
    "from tensorflow.keras import layers\n",
    "from tensorflow import keras\n",
    "import tensorflow as tf\n",
    "\n",
    "import tensorflow_datasets as tfds\n",
    "tfds.disable_progress_bar()\n",
    "\n",
    "from tensorflow.keras import mixed_precision\n",
    "mixed_precision.set_global_policy(\"mixed_float16\")\n",
    "\n",
    "import matplotlib.pyplot as plt\n",
    "import numpy as np"
   ]
  },
  {
   "cell_type": "code",
   "execution_count": 2,
   "metadata": {
    "id": "SXikC_Uz5eV2"
   },
   "outputs": [
    {
     "name": "stdout",
     "output_type": "stream",
     "text": [
      "INFO:tensorflow:Using MirroredStrategy with devices ('/job:localhost/replica:0/task:0/device:GPU:0', '/job:localhost/replica:0/task:0/device:GPU:1', '/job:localhost/replica:0/task:0/device:GPU:2', '/job:localhost/replica:0/task:0/device:GPU:3')\n",
      "Number of accelerators:  4\n"
     ]
    }
   ],
   "source": [
    "try: \n",
    "    tpu = None\n",
    "    tpu = tf.distribute.cluster_resolver.TPUClusterResolver() \n",
    "    tf.config.experimental_connect_to_cluster(tpu)\n",
    "    tf.tpu.experimental.initialize_tpu_system(tpu)\n",
    "    strategy = tf.distribute.TPUStrategy(tpu)\n",
    "except ValueError: \n",
    "    strategy = tf.distribute.MirroredStrategy() \n",
    "\n",
    "print(\"Number of accelerators: \", strategy.num_replicas_in_sync)"
   ]
  },
  {
   "cell_type": "markdown",
   "metadata": {},
   "source": [
    "## Define hyperparameters"
   ]
  },
  {
   "cell_type": "code",
   "execution_count": 3,
   "metadata": {
    "id": "6OHw98VpUDyk"
   },
   "outputs": [],
   "source": [
    "INP_DIM = (300, 300)\n",
    "TARGET_DIM = (224, 224)\n",
    "INTERPOLATION = \"bilinear\"\n",
    "\n",
    "AUTO = tf.data.AUTOTUNE\n",
    "BATCH_SIZE = 128 * strategy.num_replicas_in_sync\n",
    "EPOCHS = 10"
   ]
  },
  {
   "cell_type": "markdown",
   "metadata": {},
   "source": [
    "## Load dataset and prepare data loaders"
   ]
  },
  {
   "cell_type": "code",
   "execution_count": 4,
   "metadata": {
    "colab": {
     "base_uri": "https://localhost:8080/"
    },
    "id": "Lg1-VWCOHSET",
    "outputId": "f8c8bb84-ce2b-4231-e5f4-8b45bd2e5a18"
   },
   "outputs": [],
   "source": [
    "train_ds, validation_ds, test_ds = tfds.load(\n",
    "    \"cats_vs_dogs\",\n",
    "    # Reserve 10% for validation and 10% for test\n",
    "    split=[\"train[:90%]\", \"train[90%:95%]\", \"train[95%:]\"],\n",
    "    as_supervised=True,  \n",
    ")"
   ]
  },
  {
   "cell_type": "code",
   "execution_count": 5,
   "metadata": {
    "id": "7g61V0KBwfI8"
   },
   "outputs": [],
   "source": [
    "def preprocess_dataset(image, label):\n",
    "    image = tf.image.resize(image, (INP_DIM[0], INP_DIM[1]))\n",
    "    label = tf.one_hot(label, depth=2)\n",
    "    return (image, label)"
   ]
  },
  {
   "cell_type": "code",
   "execution_count": 6,
   "metadata": {
    "id": "70-6QO3eri7D"
   },
   "outputs": [],
   "source": [
    "train_ds = (\n",
    "    train_ds\n",
    "    .shuffle(BATCH_SIZE * 100)\n",
    "    .map(preprocess_dataset, num_parallel_calls=AUTO)\n",
    "    .batch(BATCH_SIZE)\n",
    "    .prefetch(AUTO)\n",
    ")\n",
    "validation_ds = (\n",
    "    validation_ds\n",
    "    .map(preprocess_dataset, num_parallel_calls=AUTO)\n",
    "    .batch(BATCH_SIZE)\n",
    "    .prefetch(AUTO)\n",
    ")\n",
    "test_ds = (\n",
    "    test_ds\n",
    "    .map(preprocess_dataset, num_parallel_calls=AUTO)\n",
    "    .batch(BATCH_SIZE)\n",
    "    .prefetch(AUTO)\n",
    ")"
   ]
  },
  {
   "cell_type": "markdown",
   "metadata": {},
   "source": [
    "## Utility functions"
   ]
  },
  {
   "cell_type": "code",
   "execution_count": 7,
   "metadata": {
    "id": "_nYZXzXqHhTD"
   },
   "outputs": [],
   "source": [
    "def conv_block(x, filters, kernel_size, strides, activation=layers.LeakyReLU(0.2)):\n",
    "    x = layers.Conv2D(filters, kernel_size, strides, padding=\"same\",\n",
    "                      use_bias=False)(x)\n",
    "    x = layers.BatchNormalization()(x)\n",
    "    if activation:\n",
    "        x = activation(x)\n",
    "    return x"
   ]
  },
  {
   "cell_type": "code",
   "execution_count": 8,
   "metadata": {
    "id": "Sh0JaHKTO6Ko"
   },
   "outputs": [],
   "source": [
    "def res_block(x):\n",
    "    inputs = x\n",
    "    x = conv_block(x, 16, 3, 1)\n",
    "    x = conv_block(x, 16, 3, 1, activation=None)\n",
    "    return layers.Add()([inputs, x])"
   ]
  },
  {
   "cell_type": "code",
   "execution_count": 9,
   "metadata": {
    "id": "2t8FnPhQQHYl"
   },
   "outputs": [],
   "source": [
    "def learnable_resizer(inputs, \n",
    "    filters=16,\n",
    "    num_res_blocks=1, \n",
    "    interpolation=INTERPOLATION):\n",
    "\n",
    "    # We first need to resize to a fixed resolution to allow mini-batch learning\n",
    "    naive_resize = layers.experimental.preprocessing.Resizing(*TARGET_DIM,\n",
    "            interpolation=interpolation)(inputs)\n",
    "\n",
    "    # First conv block without Batch Norm\n",
    "    x = layers.Conv2D(filters=filters, kernel_size=7, strides=1, padding=\"same\")(inputs)\n",
    "    x = layers.LeakyReLU(0.2)(x)\n",
    "\n",
    "    # Second conv block with Batch Norm\n",
    "    x = layers.Conv2D(filters=filters, kernel_size=1, strides=1, padding=\"same\")(x)\n",
    "    x = layers.LeakyReLU(0.2)(x)\n",
    "    x = layers.BatchNormalization()(x)\n",
    "\n",
    "    # Intermediate resizing as bottleneck\n",
    "    bottleneck = layers.experimental.preprocessing.Resizing(*TARGET_DIM,\n",
    "            interpolation=interpolation)(x)\n",
    "    \n",
    "    # Residual passes\n",
    "    for _ in range(num_res_blocks):\n",
    "        x = res_block(bottleneck)\n",
    "\n",
    "    # Projection\n",
    "    x = layers.Conv2D(filters=filters, kernel_size=3, strides=1, padding=\"same\",\n",
    "                      use_bias=False)(x)\n",
    "    x = layers.BatchNormalization()(x)\n",
    "\n",
    "    # Skip connection\n",
    "    x = layers.Add()([bottleneck, x])\n",
    "\n",
    "    # Final resized image\n",
    "    x = layers.Conv2D(filters=3, kernel_size=7, strides=1, padding=\"same\")(x)\n",
    "    final_resize = layers.Add()([naive_resize, x])\n",
    "\n",
    "    return final_resize"
   ]
  },
  {
   "cell_type": "code",
   "execution_count": 10,
   "metadata": {
    "id": "fb8WWT0Rvq-r"
   },
   "outputs": [],
   "source": [
    "def get_model():\n",
    "    backbone = tf.keras.applications.DenseNet121(weights=None, include_top=True, classes=2)\n",
    "    backbone.trainable = True\n",
    "    \n",
    "    inputs = layers.Input((INP_DIM[0], INP_DIM[1], 3))\n",
    "    x = layers.experimental.preprocessing.Rescaling(scale=1./255)(inputs)\n",
    "    x = learnable_resizer(x)\n",
    "    outputs = backbone(x)\n",
    "    outputs = layers.Activation(\"linear\", dtype=\"float32\")(outputs)\n",
    "\n",
    "    return tf.keras.Model(inputs, outputs)"
   ]
  },
  {
   "cell_type": "markdown",
   "metadata": {},
   "source": [
    "## Train and evaluate model"
   ]
  },
  {
   "cell_type": "code",
   "execution_count": 16,
   "metadata": {},
   "outputs": [
    {
     "data": {
      "text/plain": [
       "True"
      ]
     },
     "execution_count": 16,
     "metadata": {},
     "output_type": "execute_result"
    }
   ],
   "source": [
    "# Here we load the initial moddel weights and first extract the weights of the backbone i.e.\n",
    "# DenseNet121. We then take these weights and set them as the initial starting point\n",
    "# for the backbone of this model containing a learnable image resizer. \n",
    "initial_model = tf.keras.models.load_model(\"initial_model\")\n",
    "model = get_model()\n",
    "model.layers[-2].set_weights(initial_model.layers[-2].get_weights())\n",
    "\n",
    "# Test a single layer if the weights were properly loaded\n",
    "np.allclose(initial_model.layers[-2].layers[-1].get_weights()[0], \n",
    "            model.layers[-2].layers[-1].get_weights()[0])"
   ]
  },
  {
   "cell_type": "code",
   "execution_count": 17,
   "metadata": {
    "id": "LPdhuyHN6DnC"
   },
   "outputs": [
    {
     "name": "stdout",
     "output_type": "stream",
     "text": [
      "INFO:tensorflow:Reduce to /job:localhost/replica:0/task:0/device:CPU:0 then broadcast to ('/job:localhost/replica:0/task:0/device:CPU:0',).\n"
     ]
    },
    {
     "name": "stderr",
     "output_type": "stream",
     "text": [
      "INFO:tensorflow:Reduce to /job:localhost/replica:0/task:0/device:CPU:0 then broadcast to ('/job:localhost/replica:0/task:0/device:CPU:0',).\n"
     ]
    },
    {
     "name": "stdout",
     "output_type": "stream",
     "text": [
      "INFO:tensorflow:Reduce to /job:localhost/replica:0/task:0/device:CPU:0 then broadcast to ('/job:localhost/replica:0/task:0/device:CPU:0',).\n"
     ]
    },
    {
     "name": "stderr",
     "output_type": "stream",
     "text": [
      "INFO:tensorflow:Reduce to /job:localhost/replica:0/task:0/device:CPU:0 then broadcast to ('/job:localhost/replica:0/task:0/device:CPU:0',).\n"
     ]
    },
    {
     "name": "stdout",
     "output_type": "stream",
     "text": [
      "INFO:tensorflow:Reduce to /job:localhost/replica:0/task:0/device:CPU:0 then broadcast to ('/job:localhost/replica:0/task:0/device:CPU:0',).\n"
     ]
    },
    {
     "name": "stderr",
     "output_type": "stream",
     "text": [
      "INFO:tensorflow:Reduce to /job:localhost/replica:0/task:0/device:CPU:0 then broadcast to ('/job:localhost/replica:0/task:0/device:CPU:0',).\n"
     ]
    },
    {
     "name": "stdout",
     "output_type": "stream",
     "text": [
      "INFO:tensorflow:Reduce to /job:localhost/replica:0/task:0/device:CPU:0 then broadcast to ('/job:localhost/replica:0/task:0/device:CPU:0',).\n"
     ]
    },
    {
     "name": "stderr",
     "output_type": "stream",
     "text": [
      "INFO:tensorflow:Reduce to /job:localhost/replica:0/task:0/device:CPU:0 then broadcast to ('/job:localhost/replica:0/task:0/device:CPU:0',).\n"
     ]
    },
    {
     "name": "stdout",
     "output_type": "stream",
     "text": [
      "INFO:tensorflow:Reduce to /job:localhost/replica:0/task:0/device:CPU:0 then broadcast to ('/job:localhost/replica:0/task:0/device:CPU:0',).\n"
     ]
    },
    {
     "name": "stderr",
     "output_type": "stream",
     "text": [
      "INFO:tensorflow:Reduce to /job:localhost/replica:0/task:0/device:CPU:0 then broadcast to ('/job:localhost/replica:0/task:0/device:CPU:0',).\n"
     ]
    },
    {
     "name": "stdout",
     "output_type": "stream",
     "text": [
      "INFO:tensorflow:Reduce to /job:localhost/replica:0/task:0/device:CPU:0 then broadcast to ('/job:localhost/replica:0/task:0/device:CPU:0',).\n"
     ]
    },
    {
     "name": "stderr",
     "output_type": "stream",
     "text": [
      "INFO:tensorflow:Reduce to /job:localhost/replica:0/task:0/device:CPU:0 then broadcast to ('/job:localhost/replica:0/task:0/device:CPU:0',).\n"
     ]
    },
    {
     "name": "stdout",
     "output_type": "stream",
     "text": [
      "INFO:tensorflow:Reduce to /job:localhost/replica:0/task:0/device:CPU:0 then broadcast to ('/job:localhost/replica:0/task:0/device:CPU:0',).\n"
     ]
    },
    {
     "name": "stderr",
     "output_type": "stream",
     "text": [
      "INFO:tensorflow:Reduce to /job:localhost/replica:0/task:0/device:CPU:0 then broadcast to ('/job:localhost/replica:0/task:0/device:CPU:0',).\n"
     ]
    },
    {
     "name": "stdout",
     "output_type": "stream",
     "text": [
      "INFO:tensorflow:Reduce to /job:localhost/replica:0/task:0/device:CPU:0 then broadcast to ('/job:localhost/replica:0/task:0/device:CPU:0',).\n"
     ]
    },
    {
     "name": "stderr",
     "output_type": "stream",
     "text": [
      "INFO:tensorflow:Reduce to /job:localhost/replica:0/task:0/device:CPU:0 then broadcast to ('/job:localhost/replica:0/task:0/device:CPU:0',).\n"
     ]
    },
    {
     "name": "stdout",
     "output_type": "stream",
     "text": [
      "INFO:tensorflow:Reduce to /job:localhost/replica:0/task:0/device:CPU:0 then broadcast to ('/job:localhost/replica:0/task:0/device:CPU:0',).\n"
     ]
    },
    {
     "name": "stderr",
     "output_type": "stream",
     "text": [
      "INFO:tensorflow:Reduce to /job:localhost/replica:0/task:0/device:CPU:0 then broadcast to ('/job:localhost/replica:0/task:0/device:CPU:0',).\n"
     ]
    },
    {
     "name": "stdout",
     "output_type": "stream",
     "text": [
      "INFO:tensorflow:Reduce to /job:localhost/replica:0/task:0/device:CPU:0 then broadcast to ('/job:localhost/replica:0/task:0/device:CPU:0',).\n"
     ]
    },
    {
     "name": "stderr",
     "output_type": "stream",
     "text": [
      "INFO:tensorflow:Reduce to /job:localhost/replica:0/task:0/device:CPU:0 then broadcast to ('/job:localhost/replica:0/task:0/device:CPU:0',).\n"
     ]
    },
    {
     "name": "stdout",
     "output_type": "stream",
     "text": [
      "WARNING:tensorflow:No training configuration found in save file, so the model was *not* compiled. Compile it manually.\n"
     ]
    },
    {
     "name": "stderr",
     "output_type": "stream",
     "text": [
      "WARNING:tensorflow:No training configuration found in save file, so the model was *not* compiled. Compile it manually.\n"
     ]
    },
    {
     "name": "stdout",
     "output_type": "stream",
     "text": [
      "Epoch 1/10\n",
      "INFO:tensorflow:batch_all_reduce: 381 all-reduces with algorithm = nccl, num_packs = 1\n"
     ]
    },
    {
     "name": "stderr",
     "output_type": "stream",
     "text": [
      "INFO:tensorflow:batch_all_reduce: 381 all-reduces with algorithm = nccl, num_packs = 1\n"
     ]
    },
    {
     "name": "stdout",
     "output_type": "stream",
     "text": [
      "INFO:tensorflow:batch_all_reduce: 381 all-reduces with algorithm = nccl, num_packs = 1\n"
     ]
    },
    {
     "name": "stderr",
     "output_type": "stream",
     "text": [
      "INFO:tensorflow:batch_all_reduce: 381 all-reduces with algorithm = nccl, num_packs = 1\n"
     ]
    },
    {
     "name": "stdout",
     "output_type": "stream",
     "text": [
      "41/41 [==============================] - 215s 919ms/step - loss: 0.6645 - accuracy: 0.6065 - val_loss: 0.6931 - val_accuracy: 0.5047\n",
      "Epoch 2/10\n",
      "41/41 [==============================] - 30s 623ms/step - loss: 0.6258 - accuracy: 0.6630 - val_loss: 0.6931 - val_accuracy: 0.5047\n",
      "Epoch 3/10\n",
      "41/41 [==============================] - 29s 616ms/step - loss: 0.6158 - accuracy: 0.6756 - val_loss: 0.6950 - val_accuracy: 0.4953\n",
      "Epoch 4/10\n",
      "41/41 [==============================] - 29s 617ms/step - loss: 0.6083 - accuracy: 0.6868 - val_loss: 0.7103 - val_accuracy: 0.4953\n",
      "Epoch 5/10\n",
      "41/41 [==============================] - 29s 618ms/step - loss: 0.5944 - accuracy: 0.7047 - val_loss: 0.7672 - val_accuracy: 0.4953\n",
      "Epoch 6/10\n",
      "41/41 [==============================] - 30s 627ms/step - loss: 0.5906 - accuracy: 0.7133 - val_loss: 0.9100 - val_accuracy: 0.4953\n",
      "Epoch 7/10\n",
      "41/41 [==============================] - 29s 616ms/step - loss: 0.5809 - accuracy: 0.7222 - val_loss: 0.8335 - val_accuracy: 0.4953\n",
      "Epoch 8/10\n",
      "41/41 [==============================] - 29s 613ms/step - loss: 0.5733 - accuracy: 0.7396 - val_loss: 0.8558 - val_accuracy: 0.4953\n",
      "Epoch 9/10\n",
      "41/41 [==============================] - 28s 614ms/step - loss: 0.5656 - accuracy: 0.7421 - val_loss: 0.9054 - val_accuracy: 0.4970\n",
      "Epoch 10/10\n",
      "41/41 [==============================] - 29s 619ms/step - loss: 0.5586 - accuracy: 0.7509 - val_loss: 0.7914 - val_accuracy: 0.5219\n"
     ]
    },
    {
     "data": {
      "text/plain": [
       "<tensorflow.python.keras.callbacks.History at 0x7efbb6ce7750>"
      ]
     },
     "execution_count": 17,
     "metadata": {},
     "output_type": "execute_result"
    }
   ],
   "source": [
    "with strategy.scope():\n",
    "    initial_model = tf.keras.models.load_model(\"initial_model\")\n",
    "    model = get_model()\n",
    "    model.layers[-2].set_weights(initial_model.layers[-2].get_weights())\n",
    "    \n",
    "    model.compile(loss=keras.losses.CategoricalCrossentropy(label_smoothing=0.1),\n",
    "                optimizer=\"sgd\",\n",
    "                metrics=[\"accuracy\"])\n",
    "model.fit(train_ds,\n",
    "          validation_data=validation_ds,\n",
    "          epochs=EPOCHS)"
   ]
  },
  {
   "cell_type": "code",
   "execution_count": 18,
   "metadata": {
    "id": "oGor7uS_6ejQ"
   },
   "outputs": [
    {
     "name": "stdout",
     "output_type": "stream",
     "text": [
      "3/3 [==============================] - 1s 114ms/step - loss: 0.7965 - accuracy: 0.5202\n",
      "Test accuracy: 52.02%\n",
      "INFO:tensorflow:Assets written to: learnable_resizer_model/assets\n"
     ]
    },
    {
     "name": "stderr",
     "output_type": "stream",
     "text": [
      "INFO:tensorflow:Assets written to: learnable_resizer_model/assets\n"
     ]
    }
   ],
   "source": [
    "with strategy.scope():\n",
    "    _, test_acc = model.evaluate(test_ds)\n",
    "print(\"Test accuracy: {:.2f}%\".format(test_acc * 100))\n",
    "\n",
    "model.save(\"learnable_resizer_model\")"
   ]
  }
 ],
 "metadata": {
  "accelerator": "GPU",
  "colab": {
   "authorship_tag": "ABX9TyPk7VNFnKAOlWIb7pY+dF+o",
   "machine_shape": "hm",
   "name": "Learnable_Resizer.ipynb",
   "provenance": []
  },
  "environment": {
   "name": "tf2-gpu.2-4.m65",
   "type": "gcloud",
   "uri": "gcr.io/deeplearning-platform-release/tf2-gpu.2-4:m65"
  },
  "kernelspec": {
   "display_name": "Python 3",
   "language": "python",
   "name": "python3"
  },
  "language_info": {
   "codemirror_mode": {
    "name": "ipython",
    "version": 3
   },
   "file_extension": ".py",
   "mimetype": "text/x-python",
   "name": "python",
   "nbconvert_exporter": "python",
   "pygments_lexer": "ipython3",
   "version": "3.7.10"
  }
 },
 "nbformat": 4,
 "nbformat_minor": 4
}
